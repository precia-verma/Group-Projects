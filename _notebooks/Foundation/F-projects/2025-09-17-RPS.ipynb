{
 "cells": [
  {
   "cell_type": "markdown",
   "id": "d476ae3d",
   "metadata": {},
   "source": [
    "---\n",
    "layout: post\n",
    "title: RPS BLOG\n",
    "description: Rock Paper Scissors 🪨📰✂️\n",
    "permalink: /RPSblog\n",
    "---"
   ]
  },
  {
   "cell_type": "markdown",
   "id": "7538297f",
   "metadata": {},
   "source": [
    "-Oliver, Claire, Yiming\n",
    "\n",
    "# Using Developer Tools\n",
    "\n",
    "- We went to the page with the RPS game ---> (https://pages.opencodingsociety.com/rock-paper-scissor/) and accessed the developer tools by right clicking and pressing \"Inspect\"\n",
    "\n",
    "![RPS console screenshot](/images/rps_console.png)\n",
    "\n",
    "- Once this is open, you can go to console and play around a bit\n",
    "\n",
    "    - Example: Type in playRPS(\"paper\")\n",
    "\n",
    "    - The result should come out like this\n",
    "    (Image of the console after you type in a command)\n",
    "\n",
    "### !!! The console allows you to test and edit things on the page, and see the changes right away. You can try this out by typing in these commands\n",
    "\n",
    "- rock.setBorder('4px solid purple');\n",
    "\n",
    "    - This command allows you to change the border. You can increase ↑ or decrease ↓ the thickness of the border by changing the number right before px, and you can also change the color EX: solid yellow\n",
    "\n",
    "- paper.rotate(15);\n",
    "\n",
    "    - This command lets you rotate ↺ the paper and you can play around with this one by changing the number\n",
    "\n",
    "- scissors.setWidth(150);\n",
    "\n",
    "    - This command allows you to change the size of the scissors on the page.\n",
    "\n",
    "You could also try changing the background using this!\n",
    "\n",
    "- document.body.style.background = '#222'\n",
    "\n",
    "    - (we tried things out and explored with this, found out that you can use all different kinds of color codes EX: #F4C2C2)\n",
    "\n",
    "## Before\n",
    "\n",
    "(image of the before)\n",
    "\n",
    "## After\n",
    "\n",
    "(image of the after)"
   ]
  }
 ],
 "metadata": {
  "language_info": {
   "name": "python"
  }
 },
 "nbformat": 4,
 "nbformat_minor": 5
}
