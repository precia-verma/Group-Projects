{
 "cells": [
  {
   "cell_type": "markdown",
   "id": "e5097002",
   "metadata": {},
   "source": [
    "---\n",
    "title: Homebrew Installation Shop\n",
    "layout: post\n",
    "permalink: /homwbrewblog1\n",
    "---"
   ]
  },
  {
   "cell_type": "markdown",
   "id": "9c57b564",
   "metadata": {},
   "source": [
    "\n",
    "# Welcome to the Brew Shop! 🍺\n",
    "\n",
    "---\n",
    "\n",
    "\n",
    "## If you're driving anything other than a MacOS car, then you can skip this pickup stop.\n",
    "\n",
    "---\n",
    "\n",
    "Your customer wants Homebrew, here's how to get it:\n",
    "First, let's check if you already have Homebrew in your car. In a new terminal, type `brew --version`. If the command is not found, then you need to order Homebrew. \n",
    "\n",
    "To do so, go to https://brew.sh/ and follow the instructions.\n",
    "\n",
    "On the website, it will tell you to run this code in your terminal:\n",
    "```\n",
    "/bin/bash -c \"$(curl -fsSL https://raw.githubusercontent.com/Homebrew/install/HEAD/install.sh)\"\n",
    "```\n",
    "You may need enter your password into terminal. Then, wait for your order to finish. Then, make sure to run this: (make sure to put the word `sudo` before pasting this code)\n",
    "```bash\n",
    "echo >> /Users/anshrathod/.zprofile\n",
    "echo 'eval \"$(/opt/homebrew/bin/brew shellenv)\"' »> /Users/anshrathod/ •zprof\n",
    "ile\n",
    "eval \"$(/opt/homebrew/bin/brew shellenv)\"\n",
    "```\n",
    "Your order should be complete now! But first--take a sip to make sure it's ready for your customer! Run `brew --version` to make sure your Homebrew is correctly installed. If the output is `Homebrew (version number)` then your brew is perfect and ready for your customer. \n",
    "# 🎉🎉"
   ]
  }
 ],
 "metadata": {
  "kernelspec": {
   "display_name": "venv",
   "language": "python",
   "name": "python3"
  },
  "language_info": {
   "name": "python",
   "version": "3.13.7"
  }
 },
 "nbformat": 4,
 "nbformat_minor": 5
}
