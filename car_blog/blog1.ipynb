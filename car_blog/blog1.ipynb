{
 "cells": [
  {
   "cell_type": "markdown",
   "id": "e5097002",
   "metadata": {},
   "source": [
    "---\n",
    "title: Homebrew Installation Shop\n",
    "layout: post\n",
    "permalink: /homwbrewblog\n",
    "---"
   ]
  }
 ],
 "metadata": {
  "language_info": {
   "name": "python"
  }
 },
 "nbformat": 4,
 "nbformat_minor": 5
}
