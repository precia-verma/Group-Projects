{
 "cells": [
  {
   "cell_type": "code",
   "execution_count": 1,
   "id": "5f4feaeb",
   "metadata": {},
   "outputs": [
    {
     "ename": "SyntaxError",
     "evalue": "invalid syntax (261975179.py, line 1)",
     "output_type": "error",
     "traceback": [
      "  \u001b[36mCell\u001b[39m\u001b[36m \u001b[39m\u001b[32mIn[1]\u001b[39m\u001b[32m, line 1\u001b[39m\n\u001b[31m    \u001b[39m\u001b[31m---\u001b[39m\n       ^\n\u001b[31mSyntaxError\u001b[39m\u001b[31m:\u001b[39m invalid syntax\n"
     ]
    }
   ],
   "source": [
    "---\n",
    "layout: blogs \n",
    "title: The Hacks Blog\n",
    "search_exclude: true\n",
    "permalink: /blogs/\n",
    "---"
   ]
  },
  {
   "cell_type": "markdown",
   "id": "e193a0c9",
   "metadata": {},
   "source": [
    "Welcome to our Hacks Blog! This is the page where we will record all of our changes edits, changes, and issues that we faced throughout the process.\n"
   ]
  },
  {
   "cell_type": "markdown",
   "id": "b278bbd6",
   "metadata": {},
   "source": [
    "# Cookie Clicker - First Edits\n",
    "\n",
    "We made "
   ]
  },
  {
   "cell_type": "markdown",
   "id": "f2b6f5bd",
   "metadata": {},
   "source": [
    "# Calculator - First Edits "
   ]
  }
 ],
 "metadata": {
  "kernelspec": {
   "display_name": "venv",
   "language": "python",
   "name": "python3"
  },
  "language_info": {
   "codemirror_mode": {
    "name": "ipython",
    "version": 3
   },
   "file_extension": ".py",
   "mimetype": "text/x-python",
   "name": "python",
   "nbconvert_exporter": "python",
   "pygments_lexer": "ipython3",
   "version": "3.12.3"
  }
 },
 "nbformat": 4,
 "nbformat_minor": 5
}
