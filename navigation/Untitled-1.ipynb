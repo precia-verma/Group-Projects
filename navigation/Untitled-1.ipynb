{
 "cells": [
  {
   "cell_type": "code",
   "execution_count": null,
   "id": "5f4feaeb",
   "metadata": {},
   "outputs": [],
   "source": [
    "---\n",
    "layout: blogs \n",
    "title: The Hacks Blog\n",
    "search_exclude: true\n",
    "permalink: /blogs/\n",
    "---"
   ]
  },
  {
   "cell_type": "markdown",
   "id": "e193a0c9",
   "metadata": {},
   "source": [
    "Welcome to our Hacks Blog! This is the page where we will record all of our changes edits, changes, and issues that we faced throughout the process.\n"
   ]
  },
  {
   "cell_type": "markdown",
   "id": "b278bbd6",
   "metadata": {},
   "source": [
    "# Cookie Clicker - First Edits\n",
    "\n",
    "We made "
   ]
  },
  {
   "cell_type": "markdown",
   "id": "f2b6f5bd",
   "metadata": {},
   "source": [
    "# Calculator - First Edits "
   ]
  }
 ],
 "metadata": {
  "kernelspec": {
   "display_name": "venv",
   "language": "python",
   "name": "python3"
  },
  "language_info": {
   "name": "python",
   "version": "3.12.3"
  }
 },
 "nbformat": 4,
 "nbformat_minor": 5
}
